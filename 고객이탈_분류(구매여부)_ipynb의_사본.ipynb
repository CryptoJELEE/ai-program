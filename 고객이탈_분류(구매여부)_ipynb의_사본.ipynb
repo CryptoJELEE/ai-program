{
  "cells": [
    {
      "cell_type": "markdown",
      "metadata": {
        "id": "view-in-github",
        "colab_type": "text"
      },
      "source": [
        "<a href=\"https://colab.research.google.com/github/CryptoJELEE/ai-program/blob/main/%EA%B3%A0%EA%B0%9D%EC%9D%B4%ED%83%88_%EB%B6%84%EB%A5%98(%EA%B5%AC%EB%A7%A4%EC%97%AC%EB%B6%80)_ipynb%EC%9D%98_%EC%82%AC%EB%B3%B8.ipynb\" target=\"_parent\"><img src=\"https://colab.research.google.com/assets/colab-badge.svg\" alt=\"Open In Colab\"/></a>"
      ]
    },
    {
      "cell_type": "code",
      "execution_count": 1,
      "metadata": {
        "colab": {
          "base_uri": "https://localhost:8080/"
        },
        "id": "d8s_w2ZNfK0y",
        "outputId": "f66a37b7-3914-4b08-a8bc-217d5adf4266"
      },
      "outputs": [
        {
          "output_type": "stream",
          "name": "stdout",
          "text": [
            "Mounted at /content/drinve\n"
          ]
        }
      ],
      "source": [
        "from google.colab import drive\n",
        "drive.mount('/content/drinve')"
      ]
    },
    {
      "cell_type": "markdown",
      "metadata": {
        "id": "nMODcm42oYZu"
      },
      "source": [
        "모델 호출\n"
      ]
    },
    {
      "cell_type": "code",
      "execution_count": 2,
      "metadata": {
        "id": "ecPOhmEIhlyH"
      },
      "outputs": [],
      "source": [
        "import numpy as np\n",
        "import pandas as pd\n",
        "import seaborn as sns\n",
        "from sklearn.model_selection import train_test_split, GridSearchCV\n",
        "from sklearn.linear_model import LogisticRegression\n",
        "from sklearn.tree import DecisionTreeClassifier\n",
        "from sklearn.svm import SVC\n",
        "from sklearn.neighbors import KNeighborsClassifier\n",
        "from sklearn.naive_bayes import GaussianNB\n",
        "from sklearn.neural_network import MLPClassifier\n",
        "from sklearn.metrics import accuracy_score, confusion_matrix, classification_report, roc_auc_score, roc_curve\n",
        "import matplotlib.pyplot as plt\n",
        "from sklearn.preprocessing import StandardScaler, RobustScaler\n",
        "from imblearn.over_sampling import SMOTE\n",
        "import xgboost as xgb\n",
        "from sklearn.ensemble import RandomForestClassifier\n",
        "import time\n",
        "from sklearn.model_selection import RandomizedSearchCV\n"
      ]
    },
    {
      "cell_type": "markdown",
      "metadata": {
        "id": "LzaotBivoV2n"
      },
      "source": [
        "테이터 로드"
      ]
    },
    {
      "cell_type": "code",
      "execution_count": 3,
      "metadata": {
        "id": "UsuR6oYuhl7v"
      },
      "outputs": [],
      "source": [
        "def load_data():\n",
        "    ecommerce_data = pd.read_csv('/content/drinve/MyDrive/코딩/rawdata/dbdata_extract_20240513.csv')\n",
        "    ecommerce_new = pd.read_csv('/content/drinve/MyDrive/코딩/rawdata/dbdata_extract_20240513_2.csv')\n",
        "    return ecommerce_data, ecommerce_new"
      ]
    },
    {
      "cell_type": "markdown",
      "metadata": {
        "id": "6ywNdAYqob7y"
      },
      "source": [
        "전처리"
      ]
    },
    {
      "cell_type": "code",
      "execution_count": 4,
      "metadata": {
        "id": "dGMEAD_chmAz"
      },
      "outputs": [],
      "source": [
        "def preprocess_data(ecommerce_data):\n",
        "    ecommerce_buy_y = ecommerce_data[ecommerce_data['구매여부'] == 1]\n",
        "    ecommerce_buy_nt = ecommerce_data[ecommerce_data['구매여부'] == 0]\n",
        "    max_buy_count = len(ecommerce_buy_y)\n",
        "    ecommerce_buy_n = ecommerce_buy_nt.sample(n=max_buy_count*2, random_state=42)\n",
        "    ecommerce_buy = pd.concat([ecommerce_buy_y, ecommerce_buy_n])\n",
        "    ecommerce_member = ecommerce_buy.sample(frac=1, random_state=42)  # Shuffle\n",
        "    return ecommerce_member"
      ]
    },
    {
      "cell_type": "markdown",
      "metadata": {
        "id": "QHYYbkHuoe-7"
      },
      "source": [
        "피처 설정"
      ]
    },
    {
      "cell_type": "code",
      "execution_count": 5,
      "metadata": {
        "id": "F8MwJupRoel2"
      },
      "outputs": [],
      "source": [
        "def feature_selection(data):\n",
        "    X = data[['방문시간', '유입출처구분', '페이지뷰', '체류시간', '이동경로', '재방문여부']]\n",
        "    y = data['구매여부']\n",
        "    return X, y"
      ]
    },
    {
      "cell_type": "markdown",
      "metadata": {
        "id": "2Ekl8ogIov9t"
      },
      "source": [
        "데이터 스플릿"
      ]
    },
    {
      "cell_type": "code",
      "execution_count": 6,
      "metadata": {
        "id": "UVDynZm4o0Bh"
      },
      "outputs": [],
      "source": [
        "def train_test_splitting(X, y):\n",
        "    return train_test_split(X, y, test_size=0.2, random_state=42)"
      ]
    },
    {
      "cell_type": "markdown",
      "metadata": {
        "id": "lMkoYHRdpW1Q"
      },
      "source": [
        "데이터 불균형 해소\n",
        "\n",
        "---\n",
        "SMOTE의 동작 방식은 데이터의 개수가 적은 클래스의 표본을 가져온 뒤 임의의 값을 추가하여 새로운 샘플을 만들어 데이터에 추가하는 오버샘플링 방식이다.\n",
        "\n",
        "https://john-analyst.medium.com/smote%EB%A1%9C-%EB%8D%B0%EC%9D%B4%ED%84%B0-%EB%B6%88%EA%B7%A0%ED%98%95-%ED%95%B4%EA%B2%B0%ED%95%98%EA%B8%B0-5ab674ef0b32\n",
        "\n"
      ]
    },
    {
      "cell_type": "code",
      "execution_count": 7,
      "metadata": {
        "id": "Cc_RBKUapbmw"
      },
      "outputs": [],
      "source": [
        "def handle_imbalance(X_train, y_train):\n",
        "    smote = SMOTE(random_state=42)\n",
        "    return smote.fit_resample(X_train, y_train)"
      ]
    },
    {
      "cell_type": "markdown",
      "metadata": {
        "id": "UqNkBXH1rr_9"
      },
      "source": [
        "스케일링하기\n",
        "\n",
        "훈련, 테스트테이터 세트 스케일링"
      ]
    },
    {
      "cell_type": "code",
      "execution_count": 8,
      "metadata": {
        "id": "pemTO_8arqba"
      },
      "outputs": [],
      "source": [
        "def scale_features(X_train, X_test):\n",
        "    scaler = StandardScaler()\n",
        "    X_train = scaler.fit_transform(X_train)\n",
        "    X_test = scaler.transform(X_test)\n",
        "    return X_train, X_test, scaler"
      ]
    },
    {
      "cell_type": "markdown",
      "metadata": {
        "id": "xx55SRzlur_8"
      },
      "source": [
        "분석 모델 설정\n",
        "\n",
        "1. 로지스틱 회귀 (Logistic Regression)\n",
        "설명: 로지스틱 회귀는 이진 분류 문제에서 많이 사용되는 선형 모델입니다. 입력된 특징들의 가중합을 로지스틱 함수에 통과시켜 두 클래스 중 하나에 속할 확률을 예측합니다.\n",
        "\n",
        "사용 경우: 이진 분류 문제, 확률 예측이 필요한 경우.\n",
        "2. 의사결정 나무 (Decision Tree)\n",
        "설명: 의사결정 나무는 데이터의 특징들에 따라 데이터를 분할하여 예측을 수행하는 트리 구조의 모델입니다. 트리의 각 노드는 특정 특징에 대한 분기 기준을 나타냅니다.\n",
        "\n",
        "사용 경우: 데이터의 특징에 따라 명확한 분류 기준이 있는 경우.\n",
        "3. 랜덤 포레스트 (Random Forest)\n",
        "설명: 랜덤 포레스트는 여러 개의 의사결정 나무를 앙상블하여 예측의 정확성을 높이는 모델입니다. 각 나무는 무작위로 선택된 데이터와 특징을 사용하여 학습됩니다.\n",
        "\n",
        "사용 경우: 과적합을 줄이고 예측의 정확성을 높이고 싶은 경우.\n",
        "4. SVM (서포트 벡터 머신, Support Vector Machine)\n",
        "설명: SVM은 데이터를 고차원 공간으로 매핑하여 두 클래스 간의 최대 마진을 찾는 분류 모델입니다. 비선형 분류를 위해 커널 트릭을 사용할 수 있습니다.\n",
        "사용 경우: 고차원 데이터, 비선형 분류 문제.\n",
        "\n",
        "5. k-NN (k-최근접 이웃, k-Nearest Neighbors)\n",
        "설명: k-NN은 새로운 데이터 포인트를 예측할 때, 가장 가까운 k개의 이웃 데이터를 참고하여 다수결로 분류를 수행하는 비모수 모델입니다.\n",
        "사용 경우: 단순한 분류 문제, 데이터의 분포를 파악하고 싶은 경우.\n",
        "\n",
        "6. 나이브 베이즈 (Naive Bayes)\n",
        "설명: 나이브 베이즈는 특징들이 서로 독립이라는 가정 하에 베이즈 정리를 적용하여 분류를 수행하는 모델입니다. 주로 텍스트 분류에 많이 사용됩니다.\n",
        "사용 경우: 텍스트 분류, 스팸 필터링.\n",
        "\n",
        "7. 신경망 (Neural Network)\n",
        "설명: 신경망은 입력층, 은닉층, 출력층으로 구성된 노드들의 네트워크입니다. 각 노드는 가중치를 가지며 활성화 함수를 통해 신호를 전달합니다. 복잡한 비선형 관계를 학습할 수 있습니다.\n",
        "사용 경우: 이미지 인식, 자연어 처리 등 복잡한 패턴 인식 문제.\n",
        "\n",
        "8. XGBoost (Extreme Gradient Boosting)\n",
        "설명: XGBoost는 그래디언트 부스팅 알고리즘을 기반으로 한 강력한 앙상블 모델입니다. 여러 약한 학습기(주로 의사결정 나무)를 순차적으로 학습시키며, 각 단계에서 이전 단계의 오차를 줄이는 방향으로 모델을 개선합니다.\n",
        "사용 경우: 대규모 데이터셋, 높은 예측 성능이 필요한 경우."
      ]
    },
    {
      "cell_type": "code",
      "execution_count": 9,
      "metadata": {
        "id": "_BWGmXYKuupv"
      },
      "outputs": [],
      "source": [
        "def train_models(X_train, y_train):\n",
        "    models = {\n",
        "        'Logistic Regression': LogisticRegression(random_state=42),\n",
        "        'Decision Tree': RandomizedSearchCV(DecisionTreeClassifier(random_state=42), {\n",
        "            'max_depth': [10, 20],\n",
        "            'min_samples_split': [2, 5],\n",
        "            'min_samples_leaf': [1, 2]\n",
        "        }, n_iter=10, cv=3, n_jobs=-1, verbose=2, error_score='raise'),\n",
        "        'Random Forest': RandomizedSearchCV(RandomForestClassifier(random_state=42), {\n",
        "            'n_estimators': [100, 200],\n",
        "            'max_depth': [10, 20],\n",
        "            'min_samples_split': [2, 5],\n",
        "            'min_samples_leaf': [1, 2]\n",
        "        }, n_iter=10, cv=3, n_jobs=-1, verbose=2, error_score='raise'),\n",
        "        'k-NN': RandomizedSearchCV(KNeighborsClassifier(), {\n",
        "            'n_neighbors': [3, 5],\n",
        "            'weights': ['uniform', 'distance']\n",
        "        }, n_iter=10, cv=3, n_jobs=-1, verbose=2, error_score='raise'),\n",
        "        'Naive Bayes': GaussianNB(),\n",
        "        'Neural Network': RandomizedSearchCV(MLPClassifier(random_state=42), {\n",
        "            'hidden_layer_sizes': [(50,), (100,)],\n",
        "            'activation': ['tanh', 'relu'],\n",
        "            'solver': ['sgd', 'adam'],\n",
        "            'alpha': [0.0001, 0.05],\n",
        "            'learning_rate': ['constant', 'adaptive'],\n",
        "        }, n_iter=10, cv=3, n_jobs=-1, verbose=2, error_score='raise'),\n",
        "        'XGBoost': RandomizedSearchCV(xgb.XGBClassifier(random_state=42, use_label_encoder=False, tree_method='gpu_hist'), {\n",
        "            'n_estimators': [100, 200],\n",
        "            'max_depth': [3, 5],\n",
        "            'learning_rate': [0.01, 0.1],\n",
        "            'subsample': [0.8, 0.9]\n",
        "        }, n_iter=10, cv=3, n_jobs=-1, verbose=2, error_score='raise')\n",
        "    }\n",
        "\n",
        "    best_models = {}\n",
        "    train_times = {}\n",
        "    for name, model in models.items():\n",
        "        print(f'Training {name}...')\n",
        "        start_time = time.time()\n",
        "        try:\n",
        "            model.fit(X_train, y_train)\n",
        "            end_time = time.time()\n",
        "            train_times[name] = end_time - start_time\n",
        "            if hasattr(model, 'best_estimator_'):\n",
        "                best_models[name] = model.best_estimator_\n",
        "            else:\n",
        "                best_models[name] = model\n",
        "        except Exception as e:\n",
        "            print(f\"Error training {name}: {e}\")\n",
        "            continue\n",
        "\n",
        "    return best_models, train_times"
      ]
    },
    {
      "cell_type": "markdown",
      "metadata": {
        "id": "XrWCvPVxvT43"
      },
      "source": [
        "평가하기"
      ]
    },
    {
      "cell_type": "code",
      "execution_count": 10,
      "metadata": {
        "id": "6yBg9F2svUOE"
      },
      "outputs": [],
      "source": [
        "def evaluate_models(models, X_test, y_test):\n",
        "    results = {}\n",
        "    eval_times = {}\n",
        "    for name, model in models.items():\n",
        "        start_time = time.time()\n",
        "        y_pred = model.predict(X_test)\n",
        "        y_pred_proba = model.predict_proba(X_test)[:, 1] if hasattr(model, 'predict_proba') else None\n",
        "        end_time = time.time()\n",
        "        eval_times[name] = end_time - start_time\n",
        "        accuracy = accuracy_score(y_test, y_pred)\n",
        "        conf_matrix = confusion_matrix(y_test, y_pred)\n",
        "        class_report = classification_report(y_test, y_pred, output_dict=True)\n",
        "        roc_auc = roc_auc_score(y_test, y_pred_proba) if y_pred_proba is not None else None\n",
        "\n",
        "        results[name] = {\n",
        "            'accuracy': accuracy,\n",
        "            'conf_matrix': conf_matrix,\n",
        "            'class_report': class_report,\n",
        "            'roc_auc': roc_auc\n",
        "        }\n",
        "\n",
        "    return results, eval_times"
      ]
    },
    {
      "cell_type": "markdown",
      "metadata": {
        "id": "uRpBVPQSvjEt"
      },
      "source": [
        "시각화"
      ]
    },
    {
      "cell_type": "code",
      "execution_count": 11,
      "metadata": {
        "colab": {
          "base_uri": "https://localhost:8080/",
          "height": 1000
        },
        "id": "iEIzJM-svmrU",
        "outputId": "5829d70e-5120-46bc-e308-3aeb1925736a"
      },
      "outputs": [
        {
          "output_type": "stream",
          "name": "stdout",
          "text": [
            "Training Logistic Regression...\n",
            "Training Decision Tree...\n",
            "Fitting 3 folds for each of 8 candidates, totalling 24 fits\n"
          ]
        },
        {
          "output_type": "stream",
          "name": "stderr",
          "text": [
            "/usr/local/lib/python3.10/dist-packages/sklearn/model_selection/_search.py:305: UserWarning: The total space of parameters 8 is smaller than n_iter=10. Running 8 iterations. For exhaustive searches, use GridSearchCV.\n",
            "  warnings.warn(\n"
          ]
        },
        {
          "output_type": "stream",
          "name": "stdout",
          "text": [
            "Training Random Forest...\n",
            "Fitting 3 folds for each of 10 candidates, totalling 30 fits\n",
            "Training k-NN...\n",
            "Fitting 3 folds for each of 4 candidates, totalling 12 fits\n"
          ]
        },
        {
          "output_type": "stream",
          "name": "stderr",
          "text": [
            "/usr/local/lib/python3.10/dist-packages/sklearn/model_selection/_search.py:305: UserWarning: The total space of parameters 4 is smaller than n_iter=10. Running 4 iterations. For exhaustive searches, use GridSearchCV.\n",
            "  warnings.warn(\n"
          ]
        },
        {
          "output_type": "stream",
          "name": "stdout",
          "text": [
            "Training Naive Bayes...\n",
            "Training Neural Network...\n",
            "Fitting 3 folds for each of 10 candidates, totalling 30 fits\n",
            "Training XGBoost...\n",
            "Fitting 3 folds for each of 10 candidates, totalling 30 fits\n",
            "Error training XGBoost: [01:00:49] /workspace/src/tree/updater_gpu_hist.cu:781: Exception in gpu_hist: [01:00:49] /workspace/src/tree/updater_gpu_hist.cu:787: Check failed: ctx_->gpu_id >= 0 (-1 vs. 0) : Must have at least one device\n",
            "Stack trace:\n",
            "  [bt] (0) /usr/local/lib/python3.10/dist-packages/xgboost/lib/libxgboost.so(+0xb27f2a) [0x7f81956e5f2a]\n",
            "  [bt] (1) /usr/local/lib/python3.10/dist-packages/xgboost/lib/libxgboost.so(+0xb3e95a) [0x7f81956fc95a]\n",
            "  [bt] (2) /usr/local/lib/python3.10/dist-packages/xgboost/lib/libxgboost.so(+0xb483cd) [0x7f81957063cd]\n",
            "  [bt] (3) /usr/local/lib/python3.10/dist-packages/xgboost/lib/libxgboost.so(+0x460c79) [0x7f819501ec79]\n",
            "  [bt] (4) /usr/local/lib/python3.10/dist-packages/xgboost/lib/libxgboost.so(+0x46176c) [0x7f819501f76c]\n",
            "  [bt] (5) /usr/local/lib/python3.10/dist-packages/xgboost/lib/libxgboost.so(+0x4c54f7) [0x7f81950834f7]\n",
            "  [bt] (6) /usr/local/lib/python3.10/dist-packages/xgboost/lib/libxgboost.so(XGBoosterUpdateOneIter+0x70) [0x7f8194d1fef0]\n",
            "  [bt] (7) /lib/x86_64-linux-gnu/libffi.so.8(+0x7e2e) [0x7f81c14fae2e]\n",
            "  [bt] (8) /lib/x86_64-linux-gnu/libffi.so.8(+0x4493) [0x7f81c14f7493]\n",
            "\n",
            "\n",
            "\n",
            "Stack trace:\n",
            "  [bt] (0) /usr/local/lib/python3.10/dist-packages/xgboost/lib/libxgboost.so(+0xb27f2a) [0x7f81956e5f2a]\n",
            "  [bt] (1) /usr/local/lib/python3.10/dist-packages/xgboost/lib/libxgboost.so(+0xb485c9) [0x7f81957065c9]\n",
            "  [bt] (2) /usr/local/lib/python3.10/dist-packages/xgboost/lib/libxgboost.so(+0x460c79) [0x7f819501ec79]\n",
            "  [bt] (3) /usr/local/lib/python3.10/dist-packages/xgboost/lib/libxgboost.so(+0x46176c) [0x7f819501f76c]\n",
            "  [bt] (4) /usr/local/lib/python3.10/dist-packages/xgboost/lib/libxgboost.so(+0x4c54f7) [0x7f81950834f7]\n",
            "  [bt] (5) /usr/local/lib/python3.10/dist-packages/xgboost/lib/libxgboost.so(XGBoosterUpdateOneIter+0x70) [0x7f8194d1fef0]\n",
            "  [bt] (6) /lib/x86_64-linux-gnu/libffi.so.8(+0x7e2e) [0x7f81c14fae2e]\n",
            "  [bt] (7) /lib/x86_64-linux-gnu/libffi.so.8(+0x4493) [0x7f81c14f7493]\n",
            "  [bt] (8) /usr/lib/python3.10/lib-dynload/_ctypes.cpython-310-x86_64-linux-gnu.so(+0xa3e9) [0x7f81c1a993e9]\n",
            "\n",
            "\n"
          ]
        },
        {
          "output_type": "display_data",
          "data": {
            "text/plain": [
              "<Figure size 2000x1000 with 4 Axes>"
            ],
            "image/png": "[encoded data removed]"
          },
          "metadata": {}
        },
        {
          "output_type": "stream",
          "name": "stdout",
          "text": [
            "Model: Logistic Regression\n",
            "Accuracy: 0.7921787709497207\n",
            "Confusion Matrix:\n",
            "[[1014  160]\n",
            " [ 212  404]]\n",
            "Classification Report:\n",
            "              precision    recall  f1-score      support\n",
            "0              0.827080  0.863714  0.845000  1174.000000\n",
            "1              0.716312  0.655844  0.684746   616.000000\n",
            "accuracy       0.792179  0.792179  0.792179     0.792179\n",
            "macro avg      0.771696  0.759779  0.764873  1790.000000\n",
            "weighted avg   0.788961  0.792179  0.789851  1790.000000\n",
            "ROC-AUC: 0.8762292860461516\n",
            "\n",
            "\n",
            "Model: Decision Tree\n",
            "Accuracy: 0.7731843575418994\n",
            "Confusion Matrix:\n",
            "[[925 249]\n",
            " [157 459]]\n",
            "Classification Report:\n",
            "              precision    recall  f1-score      support\n",
            "0              0.854898  0.787905  0.820035  1174.000000\n",
            "1              0.648305  0.745130  0.693353   616.000000\n",
            "accuracy       0.773184  0.773184  0.773184     0.773184\n",
            "macro avg      0.751602  0.766517  0.756694  1790.000000\n",
            "weighted avg   0.783803  0.773184  0.776440  1790.000000\n",
            "ROC-AUC: 0.8190107911679463\n",
            "\n",
            "\n",
            "Model: Random Forest\n",
            "Accuracy: 0.8027932960893854\n",
            "Confusion Matrix:\n",
            "[[973 201]\n",
            " [152 464]]\n",
            "Classification Report:\n",
            "              precision    recall  f1-score      support\n",
            "0              0.864889  0.828790  0.846455  1174.000000\n",
            "1              0.697744  0.753247  0.724434   616.000000\n",
            "accuracy       0.802793  0.802793  0.802793     0.802793\n",
            "macro avg      0.781317  0.791019  0.785445  1790.000000\n",
            "weighted avg   0.807369  0.802793  0.804463  1790.000000\n",
            "ROC-AUC: 0.8849863935042811\n",
            "\n",
            "\n",
            "Model: k-NN\n",
            "Accuracy: 0.7653631284916201\n",
            "Confusion Matrix:\n",
            "[[929 245]\n",
            " [175 441]]\n",
            "Classification Report:\n",
            "              precision    recall  f1-score      support\n",
            "0              0.841486  0.791312  0.815628  1174.000000\n",
            "1              0.642857  0.715909  0.677419   616.000000\n",
            "accuracy       0.765363  0.765363  0.765363     0.765363\n",
            "macro avg      0.742171  0.753610  0.746524  1790.000000\n",
            "weighted avg   0.773131  0.765363  0.768066  1790.000000\n",
            "ROC-AUC: 0.8258935485298347\n",
            "\n",
            "\n",
            "Model: Naive Bayes\n",
            "Accuracy: 0.7815642458100559\n",
            "Confusion Matrix:\n",
            "[[1064  110]\n",
            " [ 281  335]]\n",
            "Classification Report:\n",
            "              precision    recall  f1-score      support\n",
            "0              0.791078  0.906303  0.844780  1174.000000\n",
            "1              0.752809  0.543831  0.631480   616.000000\n",
            "accuracy       0.781564  0.781564  0.781564     0.781564\n",
            "macro avg      0.771944  0.725067  0.738130  1790.000000\n",
            "weighted avg   0.777908  0.781564  0.771376  1790.000000\n",
            "ROC-AUC: 0.8045739396889312\n",
            "\n",
            "\n",
            "Model: Neural Network\n",
            "Accuracy: 0.8083798882681564\n",
            "Confusion Matrix:\n",
            "[[961 213]\n",
            " [130 486]]\n",
            "Classification Report:\n",
            "              precision    recall  f1-score     support\n",
            "0              0.880843  0.818569  0.848565  1174.00000\n",
            "1              0.695279  0.788961  0.739163   616.00000\n",
            "accuracy       0.808380  0.808380  0.808380     0.80838\n",
            "macro avg      0.788061  0.803765  0.793864  1790.00000\n",
            "weighted avg   0.816984  0.808380  0.810916  1790.00000\n",
            "ROC-AUC: 0.8896173034801655\n",
            "\n",
            "\n"
          ]
        }
      ],
      "source": [
        "def plot_results(results, train_times, eval_times):\n",
        "    accuracies = [res['accuracy'] for res in results.values()]\n",
        "    roc_aucs = [res['roc_auc'] for res in results.values() if res['roc_auc'] is not None]\n",
        "    names = list(results.keys())\n",
        "\n",
        "    plt.figure(figsize=(20, 10))\n",
        "\n",
        "    plt.subplot(2, 2, 1)\n",
        "    sns.barplot(x=accuracies, y=names)\n",
        "    plt.title('Model Accuracy')\n",
        "    plt.xlabel('Accuracy')\n",
        "    plt.ylabel('Model')\n",
        "\n",
        "    plt.subplot(2, 2, 2)\n",
        "    sns.barplot(x=roc_aucs, y=names[:len(roc_aucs)])\n",
        "    plt.title('Model ROC-AUC')\n",
        "    plt.xlabel('ROC-AUC')\n",
        "    plt.ylabel('Model')\n",
        "\n",
        "    train_times_sorted = sorted(train_times.items(), key=lambda item: item[1], reverse=True)\n",
        "    eval_times_sorted = sorted(eval_times.items(), key=lambda item: item[1], reverse=True)\n",
        "    train_names, train_values = zip(*train_times_sorted)\n",
        "    eval_names, eval_values = zip(*eval_times_sorted)\n",
        "\n",
        "    plt.subplot(2, 2, 3)\n",
        "    sns.barplot(x=train_values, y=train_names)\n",
        "    plt.title('Model Training Time')\n",
        "    plt.xlabel('Time (s)')\n",
        "    plt.ylabel('Model')\n",
        "\n",
        "    plt.subplot(2, 2, 4)\n",
        "    sns.barplot(x=eval_values, y=eval_names)\n",
        "    plt.title('Model Evaluation Time')\n",
        "    plt.xlabel('Time (s)')\n",
        "    plt.ylabel('Model')\n",
        "\n",
        "    plt.tight_layout()\n",
        "    plt.show()\n",
        "\n",
        "def display_results(results):\n",
        "    for model, metrics in results.items():\n",
        "        print(f\"Model: {model}\")\n",
        "        print(f\"Accuracy: {metrics['accuracy']}\")\n",
        "        print(\"Confusion Matrix:\")\n",
        "        print(metrics['conf_matrix'])\n",
        "        print(\"Classification Report:\")\n",
        "        print(pd.DataFrame(metrics['class_report']).transpose())\n",
        "        if metrics['roc_auc'] is not None:\n",
        "            print(f\"ROC-AUC: {metrics['roc_auc']}\")\n",
        "        print(\"\\n\")\n",
        "\n",
        "if __name__ == \"__main__\":\n",
        "    # Load and preprocess data\n",
        "    ecommerce_data, ecommerce_new = load_data()\n",
        "    ecommerce_member = preprocess_data(ecommerce_data)\n",
        "\n",
        "    # Feature selection and data splitting\n",
        "    X, y = feature_selection(ecommerce_member)\n",
        "    X_train, X_test, y_train, y_test = train_test_splitting(X, y)\n",
        "\n",
        "    # Handle class imbalance and scale features\n",
        "    X_train, y_train = handle_imbalance(X_train, y_train)\n",
        "    X_train, X_test, scaler = scale_features(X_train, X_test)\n",
        "\n",
        "    # Train and evaluate models\n",
        "    models, train_times = train_models(X_train, y_train)\n",
        "    results, eval_times = evaluate_models(models, X_test, y_test)\n",
        "\n",
        "    # Plot results\n",
        "    plot_results(results, train_times, eval_times)\n",
        "\n",
        "    # Display detailed results\n",
        "    display_results(results)\n"
      ]
    }
  ],
  "metadata": {
    "colab": {
      "provenance": [],
      "mount_file_id": "1uRgHpzfLF4fcmpYlbA-dyEf44qqP1nkz",
      "authorship_tag": "ABX9TyN1oy2GILzM6XqTtkFBg/jb",
      "include_colab_link": true
    },
    "kernelspec": {
      "display_name": "Python 3",
      "name": "python3"
    },
    "language_info": {
      "name": "python"
    }
  },
  "nbformat": 4,
  "nbformat_minor": 0
}